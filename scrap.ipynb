{
 "cells": [
  {
   "cell_type": "code",
   "execution_count": 3,
   "id": "2bc96080",
   "metadata": {},
   "outputs": [
    {
     "name": "stdout",
     "output_type": "stream",
     "text": [
      "Collecting lxml\n",
      "  Downloading lxml-6.0.0-cp312-cp312-macosx_10_13_x86_64.whl.metadata (6.6 kB)\n",
      "Downloading lxml-6.0.0-cp312-cp312-macosx_10_13_x86_64.whl (4.6 MB)\n",
      "\u001b[2K   \u001b[90m━━━━━━━━━━━━━━━━━━━━━━━━━━━━━━━━━━━━━━━━\u001b[0m \u001b[32m4.6/4.6 MB\u001b[0m \u001b[31m41.1 MB/s\u001b[0m eta \u001b[36m0:00:00\u001b[0ma \u001b[36m0:00:01\u001b[0m\n",
      "\u001b[?25hInstalling collected packages: lxml\n",
      "Successfully installed lxml-6.0.0\n",
      "\n",
      "\u001b[1m[\u001b[0m\u001b[34;49mnotice\u001b[0m\u001b[1;39;49m]\u001b[0m\u001b[39;49m A new release of pip is available: \u001b[0m\u001b[31;49m24.0\u001b[0m\u001b[39;49m -> \u001b[0m\u001b[32;49m25.2\u001b[0m\n",
      "\u001b[1m[\u001b[0m\u001b[34;49mnotice\u001b[0m\u001b[1;39;49m]\u001b[0m\u001b[39;49m To update, run: \u001b[0m\u001b[32;49mpip install --upgrade pip\u001b[0m\n",
      "Note: you may need to restart the kernel to use updated packages.\n"
     ]
    }
   ],
   "source": [
    "pip install lxml"
   ]
  },
  {
   "cell_type": "code",
   "execution_count": 4,
   "id": "2491a802",
   "metadata": {},
   "outputs": [],
   "source": [
    "import requests\n",
    "from lxml import html\n"
   ]
  },
  {
   "cell_type": "code",
   "execution_count": 6,
   "id": "4998e93e",
   "metadata": {},
   "outputs": [],
   "source": [
    "# 스크레이핑 대상 URL\n",
    "target_url = \"https://huggingface.co/papers/week/2025-W33\"\n",
    "\n",
    "# 결과를 저장할 파일 이름\n",
    "output_filename = \"huggingface_top_2_papers_2025-W33.txt\"\n",
    "\n",
    "# 스크레이핑할 논문 개수\n",
    "num_papers_to_scrape = 2\n",
    "\n",
    "# 기본 URL (상대 경로를 절대 경로로 만들기 위해 사용)\n",
    "base_url = \"https://huggingface.co\"\n",
    "\n"
   ]
  },
  {
   "cell_type": "code",
   "execution_count": 7,
   "id": "0e9be2f1",
   "metadata": {},
   "outputs": [
    {
     "name": "stdout",
     "output_type": "stream",
     "text": [
      "'https://huggingface.co/papers/week/2025-W33'에서 논문 목록을 가져옵니다...\n",
      "페이지를 성공적으로 가져왔습니다.\n"
     ]
    }
   ],
   "source": [
    "print(f\"'{target_url}'에서 논문 목록을 가져옵니다...\")\n",
    "response = requests.get(target_url, timeout=10)\n",
    "response.raise_for_status() # 요청 실패 시 예외 발생\n",
    "\n",
    "print(\"페이지를 성공적으로 가져왔습니다.\")\n",
    "# print(response.text) # 전체 HTML을 확인하고 싶을 경우 주석 해제"
   ]
  },
  {
   "cell_type": "code",
   "execution_count": 8,
   "id": "610d7eb4",
   "metadata": {},
   "outputs": [
    {
     "data": {
      "text/plain": [
       "<Response [200]>"
      ]
     },
     "execution_count": 8,
     "metadata": {},
     "output_type": "execute_result"
    }
   ],
   "source": [
    "response\n"
   ]
  },
  {
   "cell_type": "code",
   "execution_count": 10,
   "id": "4fadba9d",
   "metadata": {},
   "outputs": [
    {
     "data": {
      "text/plain": [
       "<Element html at 0x116c477a0>"
      ]
     },
     "execution_count": 10,
     "metadata": {},
     "output_type": "execute_result"
    }
   ],
   "source": [
    "tree = html.fromstring(response.content)\n",
    "tree"
   ]
  },
  {
   "cell_type": "code",
   "execution_count": 11,
   "id": "6fd4451f",
   "metadata": {},
   "outputs": [
    {
     "name": "stdout",
     "output_type": "stream",
     "text": [
      "총 2개의 논문 항목을 찾았습니다.\n"
     ]
    }
   ],
   "source": [
    "# XPath를 사용하여 상위 2개의 논문 article 목록을 가져옴\n",
    "paper_articles = tree.xpath(\"/html/body/div[1]/main/div[2]/section/div[2]/article\")[:num_papers_to_scrape]\n",
    "\n",
    "if not paper_articles:\n",
    "    print(\"논문 정보를 찾을 수 없습니다. XPath나 페이지 구조를 확인해주세요.\")\n",
    "else:\n",
    "    print(f\"총 {len(paper_articles)}개의 논문 항목을 찾았습니다.\")\n",
    "    "
   ]
  },
  {
   "cell_type": "code",
   "execution_count": 12,
   "id": "e6a30f93",
   "metadata": {},
   "outputs": [
    {
     "data": {
      "text/plain": [
       "[<Element article at 0x116c8adf0>, <Element article at 0x116c8abc0>]"
      ]
     },
     "execution_count": 12,
     "metadata": {},
     "output_type": "execute_result"
    }
   ],
   "source": [
    "paper_articles"
   ]
  },
  {
   "cell_type": "code",
   "execution_count": 14,
   "id": "6faf8880",
   "metadata": {},
   "outputs": [
    {
     "name": "stdout",
     "output_type": "stream",
     "text": [
      "--- 첫 번째 article 요소의 HTML 내용 ---\n",
      "<article class=\"relative flex flex-col overflow-hidden rounded-xl border\"><a href=\"/papers/2508.06471\" class=\"shadow-alternate-sm peer relative block h-56 w-full cursor-pointer overflow-hidden rounded-xl bg-white md:h-64\"><img src=\"https://cdn-thumbnails.huggingface.co/social-thumbnails/papers/2508.06471.png\" loading=\"lazy\" decoding=\"async\" alt=\"\" class=\"h-full w-full object-cover object-top opacity-80 dark:opacity-70 dark:invert\"></a>\n",
      "\n",
      "\t<div class=\"shadow-xs pointer-events-none absolute right-2 top-56 -mt-8 flex h-6 items-center gap-1 self-end whitespace-nowrap rounded-md border bg-white px-2 text-xs leading-none text-gray-700 dark:bg-gray-900 dark:text-gray-400 sm:text-sm md:top-64\">Submitted by\n",
      "\t\t<img alt=\"\" loading=\"lazy\" class=\"size-2.5 rounded-full  flex-none\" src=\"/avatars/76c3b70e312f25e1e610473475553c5c.svg\" crossorigin=\"anonymous\">\n",
      "\t\t\txianbao</div>\n",
      "\n",
      "\t\n",
      "\n",
      "\t<div class=\"from-gray-50-to-white bg-linear-to-b -mt-2 flex px-6 pb-6 pt-8\"><div class=\"flex w-full gap-6\">\n",
      "<div class=\"flex flex-wrap items-center gap-2.5 pt-1  z-1 lg:sticky lg:top-8\">\n",
      "<a href=\"/login?next=%2Fpapers%2F2508.06471\" class=\"self-start\">\n",
      "\n",
      "<div class=\"shadow-alternate flex h-14 w-12 gap-1 rounded-xl flex-none cursor-pointer select-none flex-col items-center justify-center self-start border-gray-300 bg-white dark:bg-gray-850 \">\n",
      "<input disabled type=\"checkbox\" class=\"peer hidden\">\n",
      "\t\t<svg class=\"text-sm peer-checked:text-gray-500 group-hover:text-gray-500\" xmlns=\"http://www.w3.org/2000/svg\" xmlns:xlink=\"http://www.w3.org/1999/xlink\" aria-hidden=\"true\" role=\"img\" width=\"1em\" height=\"1em\" preserveaspectratio=\"xMidYMid meet\" viewbox=\"0 0 12 12\"><path fill=\"currentColor\" d=\"M5.19 2.67a.94.94 0 0 1 1.62 0l3.31 5.72a.94.94 0 0 1-.82 1.4H2.7a.94.94 0 0 1-.82-1.4l3.31-5.7v-.02Z\"></path></svg>\n",
      "\t\t<div class=\"leading-none\">142</div>\n",
      "</div></a>\n",
      "\t</div>\n",
      "\n",
      "\n",
      "\n",
      "\n",
      "\t\t\t<div class=\"w-full\">\n",
      "<h3 class=\"mb-1 text-lg/6 font-semibold hover:underline peer-hover:underline 2xl:text-[1.2rem]/6\"><a href=\"/papers/2508.06471\" class=\"line-clamp-3 cursor-pointer text-balance\">GLM-4.5: Agentic, Reasoning, and Coding (ARC) Foundation Models</a></h3>\n",
      "\t\t\t\t<div class=\"flex items-center justify-between gap-1 sm:gap-2\">\n",
      "<a href=\"/papers/2508.06471\" class=\"flex\"><ul class=\"flex items-center  flex-row-reverse   text-sm  \">\n",
      "<li class=\"  -mr-2 h-4 w-4 md:h-5 md:w-5  bg-linear-to-br block flex-none rounded-full border-2 border-white from-gray-300 to-gray-100 dark:border-gray-900 dark:from-gray-600 dark:to-gray-800\" title=\"xchuang17\" style=\"content-visibility:auto;\">\n",
      "<img class=\"overflow-hidden rounded-full\" alt=\"\" src=\"/avatars/044225ddeafaeec51e098530f481adbd.svg\">\n",
      "\t\t\t</li>\n",
      "<li class=\"  -mr-2 h-4 w-4 md:h-5 md:w-5  bg-linear-to-br block flex-none rounded-full border-2 border-white from-gray-300 to-gray-100 dark:border-gray-900 dark:from-gray-600 dark:to-gray-800\" title=\"learning-rate\" style=\"content-visibility:auto;\">\n",
      "<img class=\"overflow-hidden rounded-full\" alt=\"\" src=\"/avatars/435507115bfc502c494989677cfca5fb.svg\">\n",
      "\t\t\t</li>\n",
      "<li class=\"  -mr-2 h-4 w-4 md:h-5 md:w-5  bg-linear-to-br block flex-none rounded-full border-2 border-white from-gray-300 to-gray-100 dark:border-gray-900 dark:from-gray-600 dark:to-gray-800\" title=\"Stanislas\" style=\"content-visibility:auto;\">\n",
      "<img class=\"overflow-hidden rounded-full\" alt=\"\" src=\"https://cdn-avatars.huggingface.co/v1/production/uploads/1664543160657-6231576e92e83fd1179ac3f0.jpeg\">\n",
      "\t\t\t</li>\n",
      "<li class=\"  -mr-2 h-4 w-4 md:h-5 md:w-5  bg-linear-to-br block flex-none rounded-full border-2 border-white from-gray-300 to-gray-100 dark:border-gray-900 dark:from-gray-600 dark:to-gray-800\" title=\"davidlvxin\" style=\"content-visibility:auto;\">\n",
      "<img class=\"overflow-hidden rounded-full\" alt=\"\" src=\"https://cdn-avatars.huggingface.co/v1/production/uploads/648c64829c935db2b527a764/AnTu1dvpac3hUxLQo8A8K.jpeg\">\n",
      "\t\t\t</li>\n",
      "<li class=\"  -mr-2 h-4 w-4 md:h-5 md:w-5  bg-linear-to-br block flex-none rounded-full border-2 border-white from-gray-300 to-gray-100 dark:border-gray-900 dark:from-gray-600 dark:to-gray-800\" title=\"Sengxian\" style=\"content-visibility:auto;\">\n",
      "<img class=\"overflow-hidden rounded-full\" alt=\"\" src=\"https://cdn-avatars.huggingface.co/v1/production/uploads/1659772051636-62dc173789b4cf157d36ebee.jpeg\">\n",
      "\t\t\t</li>\n",
      "\n",
      "\t\t<li class=\"text-gray-600 hover:text-gray-700 order-first ml-3\"><div class=\"flex truncate text-sm text-gray-350 sm:text-base\">\n",
      "<div class=\"mx-1\">&#183;</div>\n",
      "\t\t\t\t\t\t\t\t171 authors\n",
      "\t\t\t\t\t\t\t</div></li>\n",
      "</ul></a>\n",
      "\t\t\t\t\t<div class=\"flex items-center gap-2\">\n",
      "<a href=\"/papers/2508.06471\" class=\"flex translate-y-px items-center gap-1 rounded-md border border-gray-100 px-0.5 py-0.5 text-xs text-gray-500 sm:px-1 sm:text-sm\"><svg class=\"size-3 text-gray-800\" xmlns=\"http://www.w3.org/2000/svg\" xmlns:xlink=\"http://www.w3.org/1999/xlink\" aria-hidden=\"true\" focusable=\"false\" role=\"img\" width=\"1.03em\" height=\"1em\" preserveaspectratio=\"xMidYMid meet\" viewbox=\"0 0 256 250\"><path d=\"M128.001 0C57.317 0 0 57.307 0 128.001c0 56.554 36.676 104.535 87.535 121.46c6.397 1.185 8.746-2.777 8.746-6.158c0-3.052-.12-13.135-.174-23.83c-35.61 7.742-43.124-15.103-43.124-15.103c-5.823-14.795-14.213-18.73-14.213-18.73c-11.613-7.944.876-7.78.876-7.78c12.853.902 19.621 13.19 19.621 13.19c11.417 19.568 29.945 13.911 37.249 10.64c1.149-8.272 4.466-13.92 8.127-17.116c-28.431-3.236-58.318-14.212-58.318-63.258c0-13.975 5-25.394 13.188-34.358c-1.329-3.224-5.71-16.242 1.24-33.874c0 0 10.749-3.44 35.21 13.121c10.21-2.836 21.16-4.258 32.038-4.307c10.878.049 21.837 1.47 32.066 4.307c24.431-16.56 35.165-13.12 35.165-13.12c6.967 17.63 2.584 30.65 1.255 33.873c8.207 8.964 13.173 20.383 13.173 34.358c0 49.163-29.944 59.988-58.447 63.157c4.591 3.972 8.682 11.762 8.682 23.704c0 17.126-.148 30.91-.148 35.126c0 3.407 2.304 7.398 8.792 6.14C219.37 232.5 256 184.537 256 128.002C256 57.307 198.691 0 128.001 0zm-80.06 182.34c-.282.636-1.283.827-2.194.39c-.929-.417-1.45-1.284-1.15-1.922c.276-.655 1.279-.838 2.205-.399c.93.418 1.46 1.293 1.139 1.931zm6.296 5.618c-.61.566-1.804.303-2.614-.591c-.837-.892-.994-2.086-.375-2.66c.63-.566 1.787-.301 2.626.591c.838.903 1 2.088.363 2.66zm4.32 7.188c-.785.545-2.067.034-2.86-1.104c-.784-1.138-.784-2.503.017-3.05c.795-.547 2.058-.055 2.861 1.075c.782 1.157.782 2.522-.019 3.08zm7.304 8.325c-.701.774-2.196.566-3.29-.49c-1.119-1.032-1.43-2.496-.726-3.27c.71-.776 2.213-.558 3.315.49c1.11 1.03 1.45 2.505.701 3.27zm9.442 2.81c-.31 1.003-1.75 1.459-3.199 1.033c-1.448-.439-2.395-1.613-2.103-2.626c.301-1.01 1.747-1.484 3.207-1.028c1.446.436 2.396 1.602 2.095 2.622zm10.744 1.193c.036 1.055-1.193 1.93-2.715 1.95c-1.53.034-2.769-.82-2.786-1.86c0-1.065 1.202-1.932 2.733-1.958c1.522-.03 2.768.818 2.768 1.868zm10.555-.405c.182 1.03-.875 2.088-2.387 2.37c-1.485.271-2.861-.365-3.05-1.386c-.184-1.056.893-2.114 2.376-2.387c1.514-.263 2.868.356 3.061 1.403z\" fill=\"currentColor\"></path></svg>\n",
      "\t\t\t\t\t\t\t\t<span>2.12k</span></a>\n",
      "\t\t\t\t\t\t\n",
      "\n",
      "<span class=\"inline-block \"><span class=\"contents\"><a slot=\"anchor\" href=\"/papers/2508.06471#community\" class=\"flex translate-y-px items-center gap-1 rounded-md border border-blue-200 bg-blue-600/10 px-0.5 py-0.5 text-xs text-blue-500 dark:border-blue-800/60 dark:bg-blue-800/20 sm:px-1 sm:text-sm\"><svg class=\"\" xmlns=\"http://www.w3.org/2000/svg\" xmlns:xlink=\"http://www.w3.org/1999/xlink\" aria-hidden=\"true\" role=\"img\" width=\"1em\" height=\"1em\" preserveaspectratio=\"xMidYMid meet\" viewbox=\"0 0 24 24\"><path fill=\"none\" stroke=\"currentColor\" stroke-linecap=\"round\" stroke-linejoin=\"round\" stroke-width=\"2\" d=\"M21 15a2 2 0 0 1-2 2H7l-4 4V5a2 2 0 0 1 2-2h14a2 2 0 0 1 2 2z\"></path></svg>\n",
      "\t\t\t\t\t\t\t\t\t6</a></span>\n",
      "\t</span>\n",
      "</div>\n",
      "</div>\n",
      "</div>\n",
      "</div></div></article>\n",
      "\n",
      "\n",
      "--- 두 번째 article 요소의 HTML 내용 ---\n",
      "<article class=\"relative flex flex-col overflow-hidden rounded-xl border\"><a href=\"/papers/2508.10433\" class=\"shadow-alternate-sm peer relative block h-56 w-full cursor-pointer overflow-hidden rounded-xl bg-white md:h-64\"><img src=\"https://cdn-thumbnails.huggingface.co/social-thumbnails/papers/2508.10433.png\" loading=\"lazy\" decoding=\"async\" alt=\"\" class=\"h-full w-full object-cover object-top opacity-80 dark:opacity-70 dark:invert\"></a>\n",
      "\n",
      "\t<div class=\"shadow-xs pointer-events-none absolute right-2 top-56 -mt-8 flex h-6 items-center gap-1 self-end whitespace-nowrap rounded-md border bg-white px-2 text-xs leading-none text-gray-700 dark:bg-gray-900 dark:text-gray-400 sm:text-sm md:top-64\">Submitted by\n",
      "\t\t<img alt=\"\" loading=\"lazy\" class=\"size-2.5 rounded-full  flex-none\" src=\"https://cdn-avatars.huggingface.co/v1/production/uploads/6683a05e74fb1736a4b7c934/eiz6qlqIUjAWGy5zfg8Cs.jpeg\" crossorigin=\"anonymous\">\n",
      "\t\t\tRichardQRQ</div>\n",
      "\n",
      "\t\n",
      "\n",
      "\t<div class=\"from-gray-50-to-white bg-linear-to-b -mt-2 flex px-6 pb-6 pt-8\"><div class=\"flex w-full gap-6\">\n",
      "<div class=\"flex flex-wrap items-center gap-2.5 pt-1  z-1 lg:sticky lg:top-8\">\n",
      "<a href=\"/login?next=%2Fpapers%2F2508.10433\" class=\"self-start\">\n",
      "\n",
      "<div class=\"shadow-alternate flex h-14 w-12 gap-1 rounded-xl flex-none cursor-pointer select-none flex-col items-center justify-center self-start border-gray-300 bg-white dark:bg-gray-850 \">\n",
      "<input disabled type=\"checkbox\" class=\"peer hidden\">\n",
      "\t\t<svg class=\"text-sm peer-checked:text-gray-500 group-hover:text-gray-500\" xmlns=\"http://www.w3.org/2000/svg\" xmlns:xlink=\"http://www.w3.org/1999/xlink\" aria-hidden=\"true\" role=\"img\" width=\"1em\" height=\"1em\" preserveaspectratio=\"xMidYMid meet\" viewbox=\"0 0 12 12\"><path fill=\"currentColor\" d=\"M5.19 2.67a.94.94 0 0 1 1.62 0l3.31 5.72a.94.94 0 0 1-.82 1.4H2.7a.94.94 0 0 1-.82-1.4l3.31-5.7v-.02Z\"></path></svg>\n",
      "\t\t<div class=\"leading-none\">135</div>\n",
      "</div></a>\n",
      "\t</div>\n",
      "\n",
      "\n",
      "\n",
      "\n",
      "\t\t\t<div class=\"w-full\">\n",
      "<h3 class=\"mb-1 text-lg/6 font-semibold hover:underline peer-hover:underline 2xl:text-[1.2rem]/6\"><a href=\"/papers/2508.10433\" class=\"line-clamp-3 cursor-pointer text-balance\">We-Math 2.0: A Versatile MathBook System for Incentivizing Visual\n",
      "  Mathematical Reasoning</a></h3>\n",
      "\t\t\t\t<div class=\"flex items-center justify-between gap-1 sm:gap-2\">\n",
      "<a href=\"/papers/2508.10433\" class=\"flex\"><ul class=\"flex items-center  flex-row-reverse   text-sm  \">\n",
      "<li class=\"  -mr-2 h-4 w-4 md:h-5 md:w-5  bg-linear-to-br block flex-none rounded-full border-2 border-white from-gray-300 to-gray-100 dark:border-gray-900 dark:from-gray-600 dark:to-gray-800\" title=\"Yanzi Wang\" style=\"content-visibility:auto;\">\n",
      "\t\t\t</li>\n",
      "<li class=\"  -mr-2 h-4 w-4 md:h-5 md:w-5  bg-linear-to-br block flex-none rounded-full border-2 border-white from-gray-300 to-gray-100 dark:border-gray-900 dark:from-gray-600 dark:to-gray-800\" title=\"Qiuna Tan\" style=\"content-visibility:auto;\">\n",
      "\t\t\t</li>\n",
      "<li class=\"  -mr-2 h-4 w-4 md:h-5 md:w-5  bg-linear-to-br block flex-none rounded-full border-2 border-white from-gray-300 to-gray-100 dark:border-gray-900 dark:from-gray-600 dark:to-gray-800\" title=\"Runqi Qiao\" style=\"content-visibility:auto;\">\n",
      "\t\t\t</li>\n",
      "<li class=\"  -mr-2 h-4 w-4 md:h-5 md:w-5  bg-linear-to-br block flex-none rounded-full border-2 border-white from-gray-300 to-gray-100 dark:border-gray-900 dark:from-gray-600 dark:to-gray-800\" title=\"dongguanting\" style=\"content-visibility:auto;\">\n",
      "<img class=\"overflow-hidden rounded-full\" alt=\"\" src=\"https://cdn-avatars.huggingface.co/v1/production/uploads/61cd4b833dd34ba1985e0753/BfHfrwotoMESpXZOHiIe4.png\">\n",
      "\t\t\t</li>\n",
      "<li class=\"  -mr-2 h-4 w-4 md:h-5 md:w-5  bg-linear-to-br block flex-none rounded-full border-2 border-white from-gray-300 to-gray-100 dark:border-gray-900 dark:from-gray-600 dark:to-gray-800\" title=\"tianlan22\" style=\"content-visibility:auto;\">\n",
      "<img class=\"overflow-hidden rounded-full\" alt=\"\" src=\"/avatars/6479fe31fc563497a3b4ef41e1bdc63b.svg\">\n",
      "\t\t\t</li>\n",
      "\n",
      "\t\t<li class=\"text-gray-600 hover:text-gray-700 order-first ml-3\"><div class=\"flex truncate text-sm text-gray-350 sm:text-base\">\n",
      "<div class=\"mx-1\">&#183;</div>\n",
      "\t\t\t\t\t\t\t\t14 authors\n",
      "\t\t\t\t\t\t\t</div></li>\n",
      "</ul></a>\n",
      "\t\t\t\t\t<div class=\"flex items-center gap-2\">\n",
      "<a href=\"/papers/2508.10433\" class=\"flex translate-y-px items-center gap-1 rounded-md border border-gray-100 px-0.5 py-0.5 text-xs text-gray-500 sm:px-1 sm:text-sm\"><svg class=\"size-3 text-gray-800\" xmlns=\"http://www.w3.org/2000/svg\" xmlns:xlink=\"http://www.w3.org/1999/xlink\" aria-hidden=\"true\" focusable=\"false\" role=\"img\" width=\"1.03em\" height=\"1em\" preserveaspectratio=\"xMidYMid meet\" viewbox=\"0 0 256 250\"><path d=\"M128.001 0C57.317 0 0 57.307 0 128.001c0 56.554 36.676 104.535 87.535 121.46c6.397 1.185 8.746-2.777 8.746-6.158c0-3.052-.12-13.135-.174-23.83c-35.61 7.742-43.124-15.103-43.124-15.103c-5.823-14.795-14.213-18.73-14.213-18.73c-11.613-7.944.876-7.78.876-7.78c12.853.902 19.621 13.19 19.621 13.19c11.417 19.568 29.945 13.911 37.249 10.64c1.149-8.272 4.466-13.92 8.127-17.116c-28.431-3.236-58.318-14.212-58.318-63.258c0-13.975 5-25.394 13.188-34.358c-1.329-3.224-5.71-16.242 1.24-33.874c0 0 10.749-3.44 35.21 13.121c10.21-2.836 21.16-4.258 32.038-4.307c10.878.049 21.837 1.47 32.066 4.307c24.431-16.56 35.165-13.12 35.165-13.12c6.967 17.63 2.584 30.65 1.255 33.873c8.207 8.964 13.173 20.383 13.173 34.358c0 49.163-29.944 59.988-58.447 63.157c4.591 3.972 8.682 11.762 8.682 23.704c0 17.126-.148 30.91-.148 35.126c0 3.407 2.304 7.398 8.792 6.14C219.37 232.5 256 184.537 256 128.002C256 57.307 198.691 0 128.001 0zm-80.06 182.34c-.282.636-1.283.827-2.194.39c-.929-.417-1.45-1.284-1.15-1.922c.276-.655 1.279-.838 2.205-.399c.93.418 1.46 1.293 1.139 1.931zm6.296 5.618c-.61.566-1.804.303-2.614-.591c-.837-.892-.994-2.086-.375-2.66c.63-.566 1.787-.301 2.626.591c.838.903 1 2.088.363 2.66zm4.32 7.188c-.785.545-2.067.034-2.86-1.104c-.784-1.138-.784-2.503.017-3.05c.795-.547 2.058-.055 2.861 1.075c.782 1.157.782 2.522-.019 3.08zm7.304 8.325c-.701.774-2.196.566-3.29-.49c-1.119-1.032-1.43-2.496-.726-3.27c.71-.776 2.213-.558 3.315.49c1.11 1.03 1.45 2.505.701 3.27zm9.442 2.81c-.31 1.003-1.75 1.459-3.199 1.033c-1.448-.439-2.395-1.613-2.103-2.626c.301-1.01 1.747-1.484 3.207-1.028c1.446.436 2.396 1.602 2.095 2.622zm10.744 1.193c.036 1.055-1.193 1.93-2.715 1.95c-1.53.034-2.769-.82-2.786-1.86c0-1.065 1.202-1.932 2.733-1.958c1.522-.03 2.768.818 2.768 1.868zm10.555-.405c.182 1.03-.875 2.088-2.387 2.37c-1.485.271-2.861-.365-3.05-1.386c-.184-1.056.893-2.114 2.376-2.387c1.514-.263 2.868.356 3.061 1.403z\" fill=\"currentColor\"></path></svg>\n",
      "\t\t\t\t\t\t\t\t<span>133</span></a>\n",
      "\t\t\t\t\t\t<a href=\"/papers/2508.10433#community\" class=\"flex translate-y-px items-center gap-1 rounded-md border border-gray-100 px-0.5 py-0.5 text-xs text-gray-500 sm:px-1 sm:text-sm\"><svg class=\"\" xmlns=\"http://www.w3.org/2000/svg\" xmlns:xlink=\"http://www.w3.org/1999/xlink\" aria-hidden=\"true\" role=\"img\" width=\"1em\" height=\"1em\" preserveaspectratio=\"xMidYMid meet\" viewbox=\"0 0 24 24\"><path fill=\"none\" stroke=\"currentColor\" stroke-linecap=\"round\" stroke-linejoin=\"round\" stroke-width=\"2\" d=\"M21 15a2 2 0 0 1-2 2H7l-4 4V5a2 2 0 0 1 2-2h14a2 2 0 0 1 2 2z\"></path></svg>\n",
      "\t\t\t\t\t\t\t\t8</a>\n",
      "</div>\n",
      "</div>\n",
      "</div>\n",
      "</div></div></article>\n",
      "\n"
     ]
    }
   ],
   "source": [
    "if paper_articles:\n",
    "    print(\"--- 첫 번째 article 요소의 HTML 내용 ---\")\n",
    "    # tostring은 바이트(bytes)를 반환하므로 .decode()로 문자열로 변환해줍니다.\n",
    "    print(html.tostring(paper_articles[0], pretty_print=True).decode('utf-8'))\n",
    "\n",
    "    if len(paper_articles) > 1:\n",
    "        print(\"\\n--- 두 번째 article 요소의 HTML 내용 ---\")\n",
    "        print(html.tostring(paper_articles[1], pretty_print=True).decode('utf-8'))"
   ]
  },
  {
   "cell_type": "code",
   "execution_count": 18,
   "id": "9641c033",
   "metadata": {},
   "outputs": [
    {
     "name": "stdout",
     "output_type": "stream",
     "text": [
      "파일에 저장을 시작합니다...\n",
      "\n",
      "(1/2) 'GLM-4.5: Agentic, Reasoning, and Coding (ARC) Foundation Models' 처리 중...\n",
      "   > 상세 페이지로 이동: https://huggingface.co/papers/2508.06471\n",
      "   > 초록을 찾았습니다.\n",
      "\n",
      "(2/2) 'We-Math 2.0: A Versatile MathBook System for Incentivizing Visual\n",
      "  Mathematical Reasoning' 처리 중...\n",
      "   > 상세 페이지로 이동: https://huggingface.co/papers/2508.10433\n",
      "   > 초록을 찾았습니다.\n",
      "\n",
      "완료! 모든 정보가 'huggingface_top_2_papers_2025-W33.txt' 파일에 저장되었습니다.\n"
     ]
    }
   ],
   "source": [
    "print(\"파일에 저장을 시작합니다...\")\n",
    "\n",
    "with open(output_filename, \"w\", encoding=\"utf-8\") as f:\n",
    "    f.write(f\"Hugging Face 주간 인기 논문 Top 2 (2025-W33)\\n\")\n",
    "    f.write(f\"출처: {target_url}\\n\\n\")\n",
    "    \n",
    "    for i, article in enumerate(paper_articles):\n",
    "        try:\n",
    "            # article 태그 내부의 h3 태그를 먼저 찾음\n",
    "            h3_element = article.xpath(\".//h3\")[0]\n",
    "\n",
    "            # h3 태그 내부에서 링크(a 태그)와 제목(a 태그의 텍스트)을 찾음\n",
    "            link_list = h3_element.xpath(\"./a/@href\")\n",
    "            title_list = h3_element.xpath(\"./a/text()\")\n",
    "\n",
    "            if not link_list or not title_list:\n",
    "                raise ValueError(\"h3 태그 안에서 링크나 제목을 찾을 수 없습니다.\")\n",
    "\n",
    "            relative_link = link_list[0]\n",
    "            # 제목이 여러 조각으로 나뉘어 있을 수 있으므로 합쳐줌\n",
    "            title = \"\".join(title_list).strip()\n",
    "            paper_url = f\"{base_url}{relative_link}\"\n",
    "            \n",
    "            print(f\"\\n({i+1}/{len(paper_articles)}) '{title}' 처리 중...\")\n",
    "            print(f\"   > 상세 페이지로 이동: {paper_url}\")\n",
    "\n",
    "            # 파일에 제목과 링크 쓰기\n",
    "            f.write(f\"--- {i+1}. {title} ---\\n\")\n",
    "            f.write(f\"Link: {paper_url}\\n\\n\")\n",
    "\n",
    "            # 논문 상세 페이지로 접속\n",
    "            paper_response = requests.get(paper_url, timeout=10)\n",
    "            paper_response.raise_for_status()\n",
    "            paper_tree = html.fromstring(paper_response.content)\n",
    "\n",
    "            # [수정됨] 사용자가 제공한 구체적인 XPath로 초록(Abstract) 추출\n",
    "            abstract_elements = paper_tree.xpath('/html/body/div/main/div/section[1]/div/div[2]/div/p')\n",
    "            \n",
    "            if abstract_elements:\n",
    "                # .text_content()는 p 태그 내부의 모든 텍스트(a 태그 안의 텍스트 포함)를 가져옴\n",
    "                abstract = abstract_elements[0].text_content().strip()\n",
    "                print(\"   > 초록을 찾았습니다.\")\n",
    "                f.write(\"## Abstract\\n\")\n",
    "                f.write(abstract + \"\\n\\n\")\n",
    "            else:\n",
    "                print(\"   > 초록을 찾을 수 없습니다.\")\n",
    "                f.write(\"초록을 찾을 수 없습니다.\\n\\n\")\n",
    "\n",
    "        except Exception as e:\n",
    "            error_msg = f\"항목 처리 중 오류 발생: {e}\"\n",
    "            print(f\"   > 오류: {error_msg}\")\n",
    "            f.write(f\"--- {i+1}. 항목 처리 실패 ---\\n{error_msg}\\n\\n\")\n",
    "\n",
    "print(f\"\\n완료! 모든 정보가 '{output_filename}' 파일에 저장되었습니다.\")"
   ]
  },
  {
   "cell_type": "markdown",
   "id": "bc0826c4",
   "metadata": {},
   "source": [
    "# 최종 코드 진행중\n"
   ]
  },
  {
   "cell_type": "code",
   "execution_count": null,
   "id": "0dd3efb6",
   "metadata": {},
   "outputs": [],
   "source": [
    "import requests\n",
    "from lxml import html\n"
   ]
  },
  {
   "cell_type": "code",
   "execution_count": 19,
   "id": "996ded16",
   "metadata": {},
   "outputs": [],
   "source": [
    "# 스크레이핑 대상 URL\n",
    "target_url = \"https://huggingface.co/papers/week/2025-W33\"\n",
    "\n",
    "# 결과를 저장할 파일 이름\n",
    "output_filename = \"huggingface_top_10_papers_2025-W33.txt\"\n",
    "\n",
    "# 스크레이핑할 논문 개수\n",
    "num_papers_to_scrape = 10\n",
    "\n",
    "# 기본 URL (상대 경로를 절대 경로로 만들기 위해 사용)\n",
    "base_url = \"https://huggingface.co\""
   ]
  },
  {
   "cell_type": "code",
   "execution_count": 20,
   "id": "b15bd728",
   "metadata": {},
   "outputs": [
    {
     "name": "stdout",
     "output_type": "stream",
     "text": [
      "'https://huggingface.co/papers/week/2025-W33'에서 논문 목록을 가져옵니다...\n",
      "페이지를 성공적으로 가져왔습니다.\n"
     ]
    }
   ],
   "source": [
    "print(f\"'{target_url}'에서 논문 목록을 가져옵니다...\")\n",
    "response = requests.get(target_url, timeout=10)\n",
    "response.raise_for_status() # 요청 실패 시 예외 발생\n",
    "\n",
    "print(\"페이지를 성공적으로 가져왔습니다.\")\n",
    "# print(response.text) # 전체 HTML을 확인하고 싶을 경우 주석 해제"
   ]
  },
  {
   "cell_type": "code",
   "execution_count": 21,
   "id": "74fb59b2",
   "metadata": {},
   "outputs": [
    {
     "name": "stdout",
     "output_type": "stream",
     "text": [
      "총 10개의 논문 항목을 찾았습니다.\n",
      "[<Element article at 0x116d07e30>, <Element article at 0x116d19a90>, <Element article at 0x116d19ae0>, <Element article at 0x116d199f0>, <Element article at 0x116d18960>, <Element article at 0x116d18b40>, <Element article at 0x116d19bd0>, <Element article at 0x116d19b30>, <Element article at 0x116d19c70>, <Element article at 0x116d19cc0>]\n"
     ]
    }
   ],
   "source": [
    "# HTML 파싱\n",
    "tree = html.fromstring(response.content)\n",
    "\n",
    "# XPath를 사용하여 상위 10개의 논문 article 목록을 가져옴\n",
    "paper_articles = tree.xpath(\"/html/body/div[1]/main/div[2]/section/div[2]/article\")[:num_papers_to_scrape]\n",
    "\n",
    "if not paper_articles:\n",
    "    print(\"논문 정보를 찾을 수 없습니다. XPath나 페이지 구조를 확인해주세요.\")\n",
    "else:\n",
    "    print(f\"총 {len(paper_articles)}개의 논문 항목을 찾았습니다.\")\n",
    "    print(paper_articles) # 객체 리스트 확인\n"
   ]
  },
  {
   "cell_type": "code",
   "execution_count": 22,
   "id": "9cbe405d",
   "metadata": {},
   "outputs": [
    {
     "name": "stdout",
     "output_type": "stream",
     "text": [
      "--- 첫 번째 article 요소의 HTML 내용 ---\n",
      "<article class=\"relative flex flex-col overflow-hidden rounded-xl border\"><a href=\"/papers/2508.06471\" class=\"shadow-alternate-sm peer relative block h-56 w-full cursor-pointer overflow-hidden rounded-xl bg-white md:h-64\"><img src=\"https://cdn-thumbnails.huggingface.co/social-thumbnails/papers/2508.06471.png\" loading=\"lazy\" decoding=\"async\" alt=\"\" class=\"h-full w-full object-cover object-top opacity-80 dark:opacity-70 dark:invert\"></a>\n",
      "\n",
      "\t<div class=\"shadow-xs pointer-events-none absolute right-2 top-56 -mt-8 flex h-6 items-center gap-1 self-end whitespace-nowrap rounded-md border bg-white px-2 text-xs leading-none text-gray-700 dark:bg-gray-900 dark:text-gray-400 sm:text-sm md:top-64\">Submitted by\n",
      "\t\t<img alt=\"\" loading=\"lazy\" class=\"size-2.5 rounded-full  flex-none\" src=\"/avatars/76c3b70e312f25e1e610473475553c5c.svg\" crossorigin=\"anonymous\">\n",
      "\t\t\txianbao</div>\n",
      "\n",
      "\t\n",
      "\n",
      "\t<div class=\"from-gray-50-to-white bg-linear-to-b -mt-2 flex px-6 pb-6 pt-8\"><div class=\"flex w-full gap-6\">\n",
      "<div class=\"flex flex-wrap items-center gap-2.5 pt-1  z-1 lg:sticky lg:top-8\">\n",
      "<a href=\"/login?next=%2Fpapers%2F2508.06471\" class=\"self-start\">\n",
      "\n",
      "<div class=\"shadow-alternate flex h-14 w-12 gap-1 rounded-xl flex-none cursor-pointer select-none flex-col items-center justify-center self-start border-gray-300 bg-white dark:bg-gray-850 \">\n",
      "<input disabled type=\"checkbox\" class=\"peer hidden\">\n",
      "\t\t<svg class=\"text-sm peer-checked:text-gray-500 group-hover:text-gray-500\" xmlns=\"http://www.w3.org/2000/svg\" xmlns:xlink=\"http://www.w3.org/1999/xlink\" aria-hidden=\"true\" role=\"img\" width=\"1em\" height=\"1em\" preserveaspectratio=\"xMidYMid meet\" viewbox=\"0 0 12 12\"><path fill=\"currentColor\" d=\"M5.19 2.67a.94.94 0 0 1 1.62 0l3.31 5.72a.94.94 0 0 1-.82 1.4H2.7a.94.94 0 0 1-.82-1.4l3.31-5.7v-.02Z\"></path></svg>\n",
      "\t\t<div class=\"leading-none\">143</div>\n",
      "</div></a>\n",
      "\t</div>\n",
      "\n",
      "\n",
      "\n",
      "\n",
      "\t\t\t<div class=\"w-full\">\n",
      "<h3 class=\"mb-1 text-lg/6 font-semibold hover:underline peer-hover:underline 2xl:text-[1.2rem]/6\"><a href=\"/papers/2508.06471\" class=\"line-clamp-3 cursor-pointer text-balance\">GLM-4.5: Agentic, Reasoning, and Coding (ARC) Foundation Models</a></h3>\n",
      "\t\t\t\t<div class=\"flex items-center justify-between gap-1 sm:gap-2\">\n",
      "<a href=\"/papers/2508.06471\" class=\"flex\"><ul class=\"flex items-center  flex-row-reverse   text-sm  \">\n",
      "<li class=\"  -mr-2 h-4 w-4 md:h-5 md:w-5  bg-linear-to-br block flex-none rounded-full border-2 border-white from-gray-300 to-gray-100 dark:border-gray-900 dark:from-gray-600 dark:to-gray-800\" title=\"xchuang17\" style=\"content-visibility:auto;\">\n",
      "<img class=\"overflow-hidden rounded-full\" alt=\"\" src=\"/avatars/044225ddeafaeec51e098530f481adbd.svg\">\n",
      "\t\t\t</li>\n",
      "<li class=\"  -mr-2 h-4 w-4 md:h-5 md:w-5  bg-linear-to-br block flex-none rounded-full border-2 border-white from-gray-300 to-gray-100 dark:border-gray-900 dark:from-gray-600 dark:to-gray-800\" title=\"learning-rate\" style=\"content-visibility:auto;\">\n",
      "<img class=\"overflow-hidden rounded-full\" alt=\"\" src=\"/avatars/435507115bfc502c494989677cfca5fb.svg\">\n",
      "\t\t\t</li>\n",
      "<li class=\"  -mr-2 h-4 w-4 md:h-5 md:w-5  bg-linear-to-br block flex-none rounded-full border-2 border-white from-gray-300 to-gray-100 dark:border-gray-900 dark:from-gray-600 dark:to-gray-800\" title=\"Stanislas\" style=\"content-visibility:auto;\">\n",
      "<img class=\"overflow-hidden rounded-full\" alt=\"\" src=\"https://cdn-avatars.huggingface.co/v1/production/uploads/1664543160657-6231576e92e83fd1179ac3f0.jpeg\">\n",
      "\t\t\t</li>\n",
      "<li class=\"  -mr-2 h-4 w-4 md:h-5 md:w-5  bg-linear-to-br block flex-none rounded-full border-2 border-white from-gray-300 to-gray-100 dark:border-gray-900 dark:from-gray-600 dark:to-gray-800\" title=\"davidlvxin\" style=\"content-visibility:auto;\">\n",
      "<img class=\"overflow-hidden rounded-full\" alt=\"\" src=\"https://cdn-avatars.huggingface.co/v1/production/uploads/648c64829c935db2b527a764/AnTu1dvpac3hUxLQo8A8K.jpeg\">\n",
      "\t\t\t</li>\n",
      "<li class=\"  -mr-2 h-4 w-4 md:h-5 md:w-5  bg-linear-to-br block flex-none rounded-full border-2 border-white from-gray-300 to-gray-100 dark:border-gray-900 dark:from-gray-600 dark:to-gray-800\" title=\"Sengxian\" style=\"content-visibility:auto;\">\n",
      "<img class=\"overflow-hidden rounded-full\" alt=\"\" src=\"https://cdn-avatars.huggingface.co/v1/production/uploads/1659772051636-62dc173789b4cf157d36ebee.jpeg\">\n",
      "\t\t\t</li>\n",
      "\n",
      "\t\t<li class=\"text-gray-600 hover:text-gray-700 order-first ml-3\"><div class=\"flex truncate text-sm text-gray-350 sm:text-base\">\n",
      "<div class=\"mx-1\">&#183;</div>\n",
      "\t\t\t\t\t\t\t\t171 authors\n",
      "\t\t\t\t\t\t\t</div></li>\n",
      "</ul></a>\n",
      "\t\t\t\t\t<div class=\"flex items-center gap-2\">\n",
      "<a href=\"/papers/2508.06471\" class=\"flex translate-y-px items-center gap-1 rounded-md border border-gray-100 px-0.5 py-0.5 text-xs text-gray-500 sm:px-1 sm:text-sm\"><svg class=\"size-3 text-gray-800\" xmlns=\"http://www.w3.org/2000/svg\" xmlns:xlink=\"http://www.w3.org/1999/xlink\" aria-hidden=\"true\" focusable=\"false\" role=\"img\" width=\"1.03em\" height=\"1em\" preserveaspectratio=\"xMidYMid meet\" viewbox=\"0 0 256 250\"><path d=\"M128.001 0C57.317 0 0 57.307 0 128.001c0 56.554 36.676 104.535 87.535 121.46c6.397 1.185 8.746-2.777 8.746-6.158c0-3.052-.12-13.135-.174-23.83c-35.61 7.742-43.124-15.103-43.124-15.103c-5.823-14.795-14.213-18.73-14.213-18.73c-11.613-7.944.876-7.78.876-7.78c12.853.902 19.621 13.19 19.621 13.19c11.417 19.568 29.945 13.911 37.249 10.64c1.149-8.272 4.466-13.92 8.127-17.116c-28.431-3.236-58.318-14.212-58.318-63.258c0-13.975 5-25.394 13.188-34.358c-1.329-3.224-5.71-16.242 1.24-33.874c0 0 10.749-3.44 35.21 13.121c10.21-2.836 21.16-4.258 32.038-4.307c10.878.049 21.837 1.47 32.066 4.307c24.431-16.56 35.165-13.12 35.165-13.12c6.967 17.63 2.584 30.65 1.255 33.873c8.207 8.964 13.173 20.383 13.173 34.358c0 49.163-29.944 59.988-58.447 63.157c4.591 3.972 8.682 11.762 8.682 23.704c0 17.126-.148 30.91-.148 35.126c0 3.407 2.304 7.398 8.792 6.14C219.37 232.5 256 184.537 256 128.002C256 57.307 198.691 0 128.001 0zm-80.06 182.34c-.282.636-1.283.827-2.194.39c-.929-.417-1.45-1.284-1.15-1.922c.276-.655 1.279-.838 2.205-.399c.93.418 1.46 1.293 1.139 1.931zm6.296 5.618c-.61.566-1.804.303-2.614-.591c-.837-.892-.994-2.086-.375-2.66c.63-.566 1.787-.301 2.626.591c.838.903 1 2.088.363 2.66zm4.32 7.188c-.785.545-2.067.034-2.86-1.104c-.784-1.138-.784-2.503.017-3.05c.795-.547 2.058-.055 2.861 1.075c.782 1.157.782 2.522-.019 3.08zm7.304 8.325c-.701.774-2.196.566-3.29-.49c-1.119-1.032-1.43-2.496-.726-3.27c.71-.776 2.213-.558 3.315.49c1.11 1.03 1.45 2.505.701 3.27zm9.442 2.81c-.31 1.003-1.75 1.459-3.199 1.033c-1.448-.439-2.395-1.613-2.103-2.626c.301-1.01 1.747-1.484 3.207-1.028c1.446.436 2.396 1.602 2.095 2.622zm10.744 1.193c.036 1.055-1.193 1.93-2.715 1.95c-1.53.034-2.769-.82-2.786-1.86c0-1.065 1.202-1.932 2.733-1.958c1.522-.03 2.768.818 2.768 1.868zm10.555-.405c.182 1.03-.875 2.088-2.387 2.37c-1.485.271-2.861-.365-3.05-1.386c-.184-1.056.893-2.114 2.376-2.387c1.514-.263 2.868.356 3.061 1.403z\" fill=\"currentColor\"></path></svg>\n",
      "\t\t\t\t\t\t\t\t<span>2.12k</span></a>\n",
      "\t\t\t\t\t\t\n",
      "\n",
      "<span class=\"inline-block \"><span class=\"contents\"><a slot=\"anchor\" href=\"/papers/2508.06471#community\" class=\"flex translate-y-px items-center gap-1 rounded-md border border-blue-200 bg-blue-600/10 px-0.5 py-0.5 text-xs text-blue-500 dark:border-blue-800/60 dark:bg-blue-800/20 sm:px-1 sm:text-sm\"><svg class=\"\" xmlns=\"http://www.w3.org/2000/svg\" xmlns:xlink=\"http://www.w3.org/1999/xlink\" aria-hidden=\"true\" role=\"img\" width=\"1em\" height=\"1em\" preserveaspectratio=\"xMidYMid meet\" viewbox=\"0 0 24 24\"><path fill=\"none\" stroke=\"currentColor\" stroke-linecap=\"round\" stroke-linejoin=\"round\" stroke-width=\"2\" d=\"M21 15a2 2 0 0 1-2 2H7l-4 4V5a2 2 0 0 1 2-2h14a2 2 0 0 1 2 2z\"></path></svg>\n",
      "\t\t\t\t\t\t\t\t\t6</a></span>\n",
      "\t</span>\n",
      "</div>\n",
      "</div>\n",
      "</div>\n",
      "</div></div></article>\n",
      "\n",
      "\n",
      "--- 두 번째 article 요소의 HTML 내용 ---\n",
      "<article class=\"relative flex flex-col overflow-hidden rounded-xl border\"><a href=\"/papers/2508.10433\" class=\"shadow-alternate-sm peer relative block h-56 w-full cursor-pointer overflow-hidden rounded-xl bg-white md:h-64\"><img src=\"https://cdn-thumbnails.huggingface.co/social-thumbnails/papers/2508.10433.png\" loading=\"lazy\" decoding=\"async\" alt=\"\" class=\"h-full w-full object-cover object-top opacity-80 dark:opacity-70 dark:invert\"></a>\n",
      "\n",
      "\t<div class=\"shadow-xs pointer-events-none absolute right-2 top-56 -mt-8 flex h-6 items-center gap-1 self-end whitespace-nowrap rounded-md border bg-white px-2 text-xs leading-none text-gray-700 dark:bg-gray-900 dark:text-gray-400 sm:text-sm md:top-64\">Submitted by\n",
      "\t\t<img alt=\"\" loading=\"lazy\" class=\"size-2.5 rounded-full  flex-none\" src=\"https://cdn-avatars.huggingface.co/v1/production/uploads/6683a05e74fb1736a4b7c934/eiz6qlqIUjAWGy5zfg8Cs.jpeg\" crossorigin=\"anonymous\">\n",
      "\t\t\tRichardQRQ</div>\n",
      "\n",
      "\t\n",
      "\n",
      "\t<div class=\"from-gray-50-to-white bg-linear-to-b -mt-2 flex px-6 pb-6 pt-8\"><div class=\"flex w-full gap-6\">\n",
      "<div class=\"flex flex-wrap items-center gap-2.5 pt-1  z-1 lg:sticky lg:top-8\">\n",
      "<a href=\"/login?next=%2Fpapers%2F2508.10433\" class=\"self-start\">\n",
      "\n",
      "<div class=\"shadow-alternate flex h-14 w-12 gap-1 rounded-xl flex-none cursor-pointer select-none flex-col items-center justify-center self-start border-gray-300 bg-white dark:bg-gray-850 \">\n",
      "<input disabled type=\"checkbox\" class=\"peer hidden\">\n",
      "\t\t<svg class=\"text-sm peer-checked:text-gray-500 group-hover:text-gray-500\" xmlns=\"http://www.w3.org/2000/svg\" xmlns:xlink=\"http://www.w3.org/1999/xlink\" aria-hidden=\"true\" role=\"img\" width=\"1em\" height=\"1em\" preserveaspectratio=\"xMidYMid meet\" viewbox=\"0 0 12 12\"><path fill=\"currentColor\" d=\"M5.19 2.67a.94.94 0 0 1 1.62 0l3.31 5.72a.94.94 0 0 1-.82 1.4H2.7a.94.94 0 0 1-.82-1.4l3.31-5.7v-.02Z\"></path></svg>\n",
      "\t\t<div class=\"leading-none\">136</div>\n",
      "</div></a>\n",
      "\t</div>\n",
      "\n",
      "\n",
      "\n",
      "\n",
      "\t\t\t<div class=\"w-full\">\n",
      "<h3 class=\"mb-1 text-lg/6 font-semibold hover:underline peer-hover:underline 2xl:text-[1.2rem]/6\"><a href=\"/papers/2508.10433\" class=\"line-clamp-3 cursor-pointer text-balance\">We-Math 2.0: A Versatile MathBook System for Incentivizing Visual\n",
      "  Mathematical Reasoning</a></h3>\n",
      "\t\t\t\t<div class=\"flex items-center justify-between gap-1 sm:gap-2\">\n",
      "<a href=\"/papers/2508.10433\" class=\"flex\"><ul class=\"flex items-center  flex-row-reverse   text-sm  \">\n",
      "<li class=\"  -mr-2 h-4 w-4 md:h-5 md:w-5  bg-linear-to-br block flex-none rounded-full border-2 border-white from-gray-300 to-gray-100 dark:border-gray-900 dark:from-gray-600 dark:to-gray-800\" title=\"Yanzi Wang\" style=\"content-visibility:auto;\">\n",
      "\t\t\t</li>\n",
      "<li class=\"  -mr-2 h-4 w-4 md:h-5 md:w-5  bg-linear-to-br block flex-none rounded-full border-2 border-white from-gray-300 to-gray-100 dark:border-gray-900 dark:from-gray-600 dark:to-gray-800\" title=\"Qiuna Tan\" style=\"content-visibility:auto;\">\n",
      "\t\t\t</li>\n",
      "<li class=\"  -mr-2 h-4 w-4 md:h-5 md:w-5  bg-linear-to-br block flex-none rounded-full border-2 border-white from-gray-300 to-gray-100 dark:border-gray-900 dark:from-gray-600 dark:to-gray-800\" title=\"Runqi Qiao\" style=\"content-visibility:auto;\">\n",
      "\t\t\t</li>\n",
      "<li class=\"  -mr-2 h-4 w-4 md:h-5 md:w-5  bg-linear-to-br block flex-none rounded-full border-2 border-white from-gray-300 to-gray-100 dark:border-gray-900 dark:from-gray-600 dark:to-gray-800\" title=\"dongguanting\" style=\"content-visibility:auto;\">\n",
      "<img class=\"overflow-hidden rounded-full\" alt=\"\" src=\"https://cdn-avatars.huggingface.co/v1/production/uploads/61cd4b833dd34ba1985e0753/BfHfrwotoMESpXZOHiIe4.png\">\n",
      "\t\t\t</li>\n",
      "<li class=\"  -mr-2 h-4 w-4 md:h-5 md:w-5  bg-linear-to-br block flex-none rounded-full border-2 border-white from-gray-300 to-gray-100 dark:border-gray-900 dark:from-gray-600 dark:to-gray-800\" title=\"tianlan22\" style=\"content-visibility:auto;\">\n",
      "<img class=\"overflow-hidden rounded-full\" alt=\"\" src=\"/avatars/6479fe31fc563497a3b4ef41e1bdc63b.svg\">\n",
      "\t\t\t</li>\n",
      "\n",
      "\t\t<li class=\"text-gray-600 hover:text-gray-700 order-first ml-3\"><div class=\"flex truncate text-sm text-gray-350 sm:text-base\">\n",
      "<div class=\"mx-1\">&#183;</div>\n",
      "\t\t\t\t\t\t\t\t14 authors\n",
      "\t\t\t\t\t\t\t</div></li>\n",
      "</ul></a>\n",
      "\t\t\t\t\t<div class=\"flex items-center gap-2\">\n",
      "<a href=\"/papers/2508.10433\" class=\"flex translate-y-px items-center gap-1 rounded-md border border-gray-100 px-0.5 py-0.5 text-xs text-gray-500 sm:px-1 sm:text-sm\"><svg class=\"size-3 text-gray-800\" xmlns=\"http://www.w3.org/2000/svg\" xmlns:xlink=\"http://www.w3.org/1999/xlink\" aria-hidden=\"true\" focusable=\"false\" role=\"img\" width=\"1.03em\" height=\"1em\" preserveaspectratio=\"xMidYMid meet\" viewbox=\"0 0 256 250\"><path d=\"M128.001 0C57.317 0 0 57.307 0 128.001c0 56.554 36.676 104.535 87.535 121.46c6.397 1.185 8.746-2.777 8.746-6.158c0-3.052-.12-13.135-.174-23.83c-35.61 7.742-43.124-15.103-43.124-15.103c-5.823-14.795-14.213-18.73-14.213-18.73c-11.613-7.944.876-7.78.876-7.78c12.853.902 19.621 13.19 19.621 13.19c11.417 19.568 29.945 13.911 37.249 10.64c1.149-8.272 4.466-13.92 8.127-17.116c-28.431-3.236-58.318-14.212-58.318-63.258c0-13.975 5-25.394 13.188-34.358c-1.329-3.224-5.71-16.242 1.24-33.874c0 0 10.749-3.44 35.21 13.121c10.21-2.836 21.16-4.258 32.038-4.307c10.878.049 21.837 1.47 32.066 4.307c24.431-16.56 35.165-13.12 35.165-13.12c6.967 17.63 2.584 30.65 1.255 33.873c8.207 8.964 13.173 20.383 13.173 34.358c0 49.163-29.944 59.988-58.447 63.157c4.591 3.972 8.682 11.762 8.682 23.704c0 17.126-.148 30.91-.148 35.126c0 3.407 2.304 7.398 8.792 6.14C219.37 232.5 256 184.537 256 128.002C256 57.307 198.691 0 128.001 0zm-80.06 182.34c-.282.636-1.283.827-2.194.39c-.929-.417-1.45-1.284-1.15-1.922c.276-.655 1.279-.838 2.205-.399c.93.418 1.46 1.293 1.139 1.931zm6.296 5.618c-.61.566-1.804.303-2.614-.591c-.837-.892-.994-2.086-.375-2.66c.63-.566 1.787-.301 2.626.591c.838.903 1 2.088.363 2.66zm4.32 7.188c-.785.545-2.067.034-2.86-1.104c-.784-1.138-.784-2.503.017-3.05c.795-.547 2.058-.055 2.861 1.075c.782 1.157.782 2.522-.019 3.08zm7.304 8.325c-.701.774-2.196.566-3.29-.49c-1.119-1.032-1.43-2.496-.726-3.27c.71-.776 2.213-.558 3.315.49c1.11 1.03 1.45 2.505.701 3.27zm9.442 2.81c-.31 1.003-1.75 1.459-3.199 1.033c-1.448-.439-2.395-1.613-2.103-2.626c.301-1.01 1.747-1.484 3.207-1.028c1.446.436 2.396 1.602 2.095 2.622zm10.744 1.193c.036 1.055-1.193 1.93-2.715 1.95c-1.53.034-2.769-.82-2.786-1.86c0-1.065 1.202-1.932 2.733-1.958c1.522-.03 2.768.818 2.768 1.868zm10.555-.405c.182 1.03-.875 2.088-2.387 2.37c-1.485.271-2.861-.365-3.05-1.386c-.184-1.056.893-2.114 2.376-2.387c1.514-.263 2.868.356 3.061 1.403z\" fill=\"currentColor\"></path></svg>\n",
      "\t\t\t\t\t\t\t\t<span>133</span></a>\n",
      "\t\t\t\t\t\t<a href=\"/papers/2508.10433#community\" class=\"flex translate-y-px items-center gap-1 rounded-md border border-gray-100 px-0.5 py-0.5 text-xs text-gray-500 sm:px-1 sm:text-sm\"><svg class=\"\" xmlns=\"http://www.w3.org/2000/svg\" xmlns:xlink=\"http://www.w3.org/1999/xlink\" aria-hidden=\"true\" role=\"img\" width=\"1em\" height=\"1em\" preserveaspectratio=\"xMidYMid meet\" viewbox=\"0 0 24 24\"><path fill=\"none\" stroke=\"currentColor\" stroke-linecap=\"round\" stroke-linejoin=\"round\" stroke-width=\"2\" d=\"M21 15a2 2 0 0 1-2 2H7l-4 4V5a2 2 0 0 1 2-2h14a2 2 0 0 1 2 2z\"></path></svg>\n",
      "\t\t\t\t\t\t\t\t8</a>\n",
      "</div>\n",
      "</div>\n",
      "</div>\n",
      "</div></div></article>\n",
      "\n"
     ]
    }
   ],
   "source": [
    "# paper_articles 리스트가 비어있지 않은 경우에만 실행\n",
    "if paper_articles:\n",
    "    print(\"--- 첫 번째 article 요소의 HTML 내용 ---\")\n",
    "    # tostring은 바이트(bytes)를 반환하므로 .decode()로 문자열로 변환해줍니다.\n",
    "    print(html.tostring(paper_articles[0], pretty_print=True).decode('utf-8'))\n",
    "\n",
    "    if len(paper_articles) > 1:\n",
    "        print(\"\\n--- 두 번째 article 요소의 HTML 내용 ---\")\n",
    "        print(html.tostring(paper_articles[1], pretty_print=True).decode('utf-8'))"
   ]
  },
  {
   "cell_type": "code",
   "execution_count": 23,
   "id": "8bacd1c7",
   "metadata": {},
   "outputs": [
    {
     "name": "stdout",
     "output_type": "stream",
     "text": [
      "파일에 저장을 시작합니다...\n",
      "\n",
      "(1/10) 'GLM-4.5: Agentic, Reasoning, and Coding (ARC) Foundation Models' 처리 중...\n",
      "   > 상세 페이지로 이동: https://huggingface.co/papers/2508.06471\n",
      "   > 초록을 찾았습니다.\n",
      "\n",
      "(2/10) 'We-Math 2.0: A Versatile MathBook System for Incentivizing Visual\n",
      "  Mathematical Reasoning' 처리 중...\n",
      "   > 상세 페이지로 이동: https://huggingface.co/papers/2508.10433\n",
      "   > 초록을 찾았습니다.\n",
      "\n",
      "(3/10) 'NextStep-1: Toward Autoregressive Image Generation with Continuous\n",
      "  Tokens at Scale' 처리 중...\n",
      "   > 상세 페이지로 이동: https://huggingface.co/papers/2508.10711\n",
      "   > 초록을 찾았습니다.\n",
      "\n",
      "(4/10) 'WebWatcher: Breaking New Frontier of Vision-Language Deep Research Agent' 처리 중...\n",
      "   > 상세 페이지로 이동: https://huggingface.co/papers/2508.05748\n",
      "   > 초록을 찾았습니다.\n",
      "\n",
      "(5/10) 'ReasonRank: Empowering Passage Ranking with Strong Reasoning Ability' 처리 중...\n",
      "   > 상세 페이지로 이동: https://huggingface.co/papers/2508.07050\n",
      "   > 초록을 찾았습니다.\n",
      "\n",
      "(6/10) 'WideSearch: Benchmarking Agentic Broad Info-Seeking' 처리 중...\n",
      "   > 상세 페이지로 이동: https://huggingface.co/papers/2508.07999\n",
      "   > 초록을 찾았습니다.\n",
      "\n",
      "(7/10) 'A Comprehensive Survey of Self-Evolving AI Agents: A New Paradigm\n",
      "  Bridging Foundation Models and Lifelong Agentic Systems' 처리 중...\n",
      "   > 상세 페이지로 이동: https://huggingface.co/papers/2508.07407\n",
      "   > 초록을 찾았습니다.\n",
      "\n",
      "(8/10) 'Matrix-3D: Omnidirectional Explorable 3D World Generation' 처리 중...\n",
      "   > 상세 페이지로 이동: https://huggingface.co/papers/2508.08086\n",
      "   > 초록을 찾았습니다.\n",
      "\n",
      "(9/10) 'Story2Board: A Training-Free Approach for Expressive Storyboard\n",
      "  Generation' 처리 중...\n",
      "   > 상세 페이지로 이동: https://huggingface.co/papers/2508.09983\n",
      "   > 초록을 찾았습니다.\n",
      "\n",
      "(10/10) 'Omni-Effects: Unified and Spatially-Controllable Visual Effects\n",
      "  Generation' 처리 중...\n",
      "   > 상세 페이지로 이동: https://huggingface.co/papers/2508.07981\n",
      "   > 초록을 찾았습니다.\n",
      "\n",
      "완료! 모든 정보가 'huggingface_top_10_papers_2025-W33.txt' 파일에 저장되었습니다.\n"
     ]
    }
   ],
   "source": [
    "print(\"파일에 저장을 시작합니다...\")\n",
    "\n",
    "with open(output_filename, \"w\", encoding=\"utf-8\") as f:\n",
    "    f.write(f\"Hugging Face 주간 인기 논문 Top 10 (2025-W33)\\n\")\n",
    "    f.write(f\"출처: {target_url}\\n\\n\")\n",
    "    \n",
    "    for i, article in enumerate(paper_articles):\n",
    "        try:\n",
    "            # article 태그 내부의 h3 태그를 먼저 찾음\n",
    "            h3_element = article.xpath(\".//h3\")[0]\n",
    "\n",
    "            # h3 태그 내부에서 링크(a 태그)와 제목(a 태그의 텍스트)을 찾음\n",
    "            link_list = h3_element.xpath(\"./a/@href\")\n",
    "            title_list = h3_element.xpath(\"./a/text()\")\n",
    "\n",
    "            if not link_list or not title_list:\n",
    "                raise ValueError(\"h3 태그 안에서 링크나 제목을 찾을 수 없습니다.\")\n",
    "\n",
    "            relative_link = link_list[0]\n",
    "            # 제목이 여러 조각으로 나뉘어 있을 수 있으므로 합쳐줌\n",
    "            title = \"\".join(title_list).strip()\n",
    "            paper_url = f\"{base_url}{relative_link}\"\n",
    "            \n",
    "            print(f\"\\n({i+1}/{len(paper_articles)}) '{title}' 처리 중...\")\n",
    "            print(f\"   > 상세 페이지로 이동: {paper_url}\")\n",
    "\n",
    "            # 파일에 제목과 링크 쓰기\n",
    "            f.write(f\"--- {i+1}. {title} ---\\n\")\n",
    "            f.write(f\"Link: {paper_url}\\n\\n\")\n",
    "\n",
    "            # 논문 상세 페이지로 접속\n",
    "            paper_response = requests.get(paper_url, timeout=10)\n",
    "            paper_response.raise_for_status()\n",
    "            paper_tree = html.fromstring(paper_response.content)\n",
    "\n",
    "            # 사용자가 제공한 구체적인 XPath로 초록(Abstract) 추출\n",
    "            abstract_elements = paper_tree.xpath('/html/body/div/main/div/section[1]/div/div[2]/div/p')\n",
    "            \n",
    "            if abstract_elements:\n",
    "                # .text_content()는 p 태그 내부의 모든 텍스트(a 태그 안의 텍스트 포함)를 가져옴\n",
    "                abstract = abstract_elements[0].text_content().strip()\n",
    "                print(\"   > 초록을 찾았습니다.\")\n",
    "                f.write(\"## Abstract\\n\")\n",
    "                f.write(abstract + \"\\n\\n\")\n",
    "            else:\n",
    "                print(\"   > 초록을 찾을 수 없습니다.\")\n",
    "                f.write(\"초록을 찾을 수 없습니다.\\n\\n\")\n",
    "\n",
    "        except Exception as e:\n",
    "            error_msg = f\"항목 처리 중 오류 발생: {e}\"\n",
    "            print(f\"   > 오류: {error_msg}\")\n",
    "            f.write(f\"--- {i+1}. 항목 처리 실패 ---\\n{error_msg}\\n\\n\")\n",
    "\n",
    "print(f\"\\n완료! 모든 정보가 '{output_filename}' 파일에 저장되었습니다.\")"
   ]
  },
  {
   "cell_type": "markdown",
   "id": "e0b3af3e",
   "metadata": {},
   "source": [
    "LLM 번역 추가"
   ]
  },
  {
   "cell_type": "code",
   "execution_count": 24,
   "id": "b53237ed",
   "metadata": {},
   "outputs": [],
   "source": [
    "import os\n",
    "import requests\n",
    "from lxml import html\n",
    "from openai import OpenAI\n",
    "from dotenv import load_dotenv"
   ]
  },
  {
   "cell_type": "code",
   "execution_count": 25,
   "id": "510d9484",
   "metadata": {},
   "outputs": [
    {
     "name": "stdout",
     "output_type": "stream",
     "text": [
      "OpenAI API 키를 성공적으로 불러왔습니다.\n"
     ]
    }
   ],
   "source": [
    "# .env 파일에서 환경 변수를 불러옵니다.\n",
    "load_dotenv()\n",
    "\n",
    "# .env 파일에 OPENAI_API_KEY=\"your_key_here\" 형식으로 키를 저장하세요.\n",
    "API_KEY = os.getenv(\"OPENAI_API_KEY\")\n",
    "\n",
    "# API 키가 설정되지 않았을 경우 경고 메시지를 출력합니다.\n",
    "if not API_KEY:\n",
    "    print(\"경고: OPENAI_API_KEY 환경 변수를 찾을 수 없습니다.\")\n",
    "    print(\".env 파일이 존재하고, 그 안에 OPENAI_API_KEY가 올바르게 설정되었는지 확인해주세요.\")\n",
    "    # 이 셀 이후의 코드에서 오류가 발생할 수 있습니다.\n",
    "else:\n",
    "    print(\"OpenAI API 키를 성공적으로 불러왔습니다.\")\n",
    "    client = OpenAI(api_key=API_KEY)\n",
    "\n",
    "def translate_text_with_openai(text):\n",
    "    \"\"\"\n",
    "    OpenAI API를 사용하여 주어진 텍스트를 한글로 번역합니다.\n",
    "    \"\"\"\n",
    "    if not text or not text.strip() or not API_KEY:\n",
    "        return \"번역할 텍스트가 없거나 API 키가 설정되지 않았습니다.\"\n",
    "    try:\n",
    "        response = client.chat.completions.create(\n",
    "            model=\"gpt-4o-mini\",\n",
    "            messages=[\n",
    "                {\"role\": \"system\", \"content\": \"You are a helpful assistant that translates English text to Korean.\"},\n",
    "                {\"role\": \"user\", \"content\": f\"Translate the following English text to Korean:\\n\\n{text}\"}\n",
    "            ],\n",
    "            temperature=0.3,\n",
    "        )\n",
    "        return response.choices[0].message.content.strip()\n",
    "    except Exception as e:\n",
    "        return f\"번역 중 오류 발생: {e}\""
   ]
  },
  {
   "cell_type": "code",
   "execution_count": 26,
   "id": "d5317eb5",
   "metadata": {},
   "outputs": [],
   "source": [
    "# 스크레이핑 대상 URL\n",
    "target_url = \"https://huggingface.co/papers/week/2025-W33\"\n",
    "\n",
    "# 결과를 저장할 파일 이름\n",
    "output_filename = \"huggingface_top_10_papers_2025-W33_translated.txt\"\n",
    "\n",
    "# 스크레이핑할 논문 개수\n",
    "num_papers_to_scrape = 10\n",
    "\n",
    "# 기본 URL (상대 경로를 절대 경로로 만들기 위해 사용)\n",
    "base_url = \"https://huggingface.co\"\n"
   ]
  },
  {
   "cell_type": "code",
   "execution_count": 27,
   "id": "ce1d347e",
   "metadata": {},
   "outputs": [
    {
     "name": "stdout",
     "output_type": "stream",
     "text": [
      "'https://huggingface.co/papers/week/2025-W33'에서 논문 목록을 가져옵니다...\n",
      "페이지를 성공적으로 가져왔습니다.\n"
     ]
    }
   ],
   "source": [
    "print(f\"'{target_url}'에서 논문 목록을 가져옵니다...\")\n",
    "response = requests.get(target_url, timeout=10)\n",
    "response.raise_for_status() # 요청 실패 시 예외 발생\n",
    "\n",
    "print(\"페이지를 성공적으로 가져왔습니다.\")"
   ]
  },
  {
   "cell_type": "code",
   "execution_count": 28,
   "id": "039cdc06",
   "metadata": {},
   "outputs": [
    {
     "name": "stdout",
     "output_type": "stream",
     "text": [
      "총 10개의 논문 항목을 찾았습니다.\n"
     ]
    }
   ],
   "source": [
    "# HTML 파싱\n",
    "tree = html.fromstring(response.content)\n",
    "\n",
    "# XPath를 사용하여 상위 10개의 논문 article 목록을 가져옴\n",
    "paper_articles = tree.xpath(\"/html/body/div[1]/main/div[2]/section/div[2]/article\")[:num_papers_to_scrape]\n",
    "\n",
    "if not paper_articles:\n",
    "    print(\"논문 정보를 찾을 수 없습니다. XPath나 페이지 구조를 확인해주세요.\")\n",
    "else:\n",
    "    print(f\"총 {len(paper_articles)}개의 논문 항목을 찾았습니다.\")"
   ]
  },
  {
   "cell_type": "code",
   "execution_count": 29,
   "id": "52490ec0",
   "metadata": {},
   "outputs": [
    {
     "name": "stdout",
     "output_type": "stream",
     "text": [
      "파일에 저장을 시작합니다...\n",
      "\n",
      "(1/10) 'GLM-4.5: Agentic, Reasoning, and Coding (ARC) Foundation Models' 처리 중...\n",
      "   > 상세 페이지로 이동: https://huggingface.co/papers/2508.06471\n",
      "   > 초록을 찾았습니다. 번역을 시작합니다...\n",
      "   > 번역 완료.\n",
      "\n",
      "(2/10) 'We-Math 2.0: A Versatile MathBook System for Incentivizing Visual\n",
      "  Mathematical Reasoning' 처리 중...\n",
      "   > 상세 페이지로 이동: https://huggingface.co/papers/2508.10433\n",
      "   > 초록을 찾았습니다. 번역을 시작합니다...\n",
      "   > 번역 완료.\n",
      "\n",
      "(3/10) 'NextStep-1: Toward Autoregressive Image Generation with Continuous\n",
      "  Tokens at Scale' 처리 중...\n",
      "   > 상세 페이지로 이동: https://huggingface.co/papers/2508.10711\n",
      "   > 초록을 찾았습니다. 번역을 시작합니다...\n",
      "   > 번역 완료.\n",
      "\n",
      "(4/10) 'WebWatcher: Breaking New Frontier of Vision-Language Deep Research Agent' 처리 중...\n",
      "   > 상세 페이지로 이동: https://huggingface.co/papers/2508.05748\n",
      "   > 초록을 찾았습니다. 번역을 시작합니다...\n",
      "   > 번역 완료.\n",
      "\n",
      "(5/10) 'ReasonRank: Empowering Passage Ranking with Strong Reasoning Ability' 처리 중...\n",
      "   > 상세 페이지로 이동: https://huggingface.co/papers/2508.07050\n",
      "   > 초록을 찾았습니다. 번역을 시작합니다...\n",
      "   > 번역 완료.\n",
      "\n",
      "(6/10) 'WideSearch: Benchmarking Agentic Broad Info-Seeking' 처리 중...\n",
      "   > 상세 페이지로 이동: https://huggingface.co/papers/2508.07999\n",
      "   > 초록을 찾았습니다. 번역을 시작합니다...\n",
      "   > 번역 완료.\n",
      "\n",
      "(7/10) 'A Comprehensive Survey of Self-Evolving AI Agents: A New Paradigm\n",
      "  Bridging Foundation Models and Lifelong Agentic Systems' 처리 중...\n",
      "   > 상세 페이지로 이동: https://huggingface.co/papers/2508.07407\n",
      "   > 초록을 찾았습니다. 번역을 시작합니다...\n",
      "   > 번역 완료.\n",
      "\n",
      "(8/10) 'Matrix-3D: Omnidirectional Explorable 3D World Generation' 처리 중...\n",
      "   > 상세 페이지로 이동: https://huggingface.co/papers/2508.08086\n",
      "   > 초록을 찾았습니다. 번역을 시작합니다...\n",
      "   > 번역 완료.\n",
      "\n",
      "(9/10) 'Story2Board: A Training-Free Approach for Expressive Storyboard\n",
      "  Generation' 처리 중...\n",
      "   > 상세 페이지로 이동: https://huggingface.co/papers/2508.09983\n",
      "   > 초록을 찾았습니다. 번역을 시작합니다...\n",
      "   > 번역 완료.\n",
      "\n",
      "(10/10) 'Omni-Effects: Unified and Spatially-Controllable Visual Effects\n",
      "  Generation' 처리 중...\n",
      "   > 상세 페이지로 이동: https://huggingface.co/papers/2508.07981\n",
      "   > 초록을 찾았습니다. 번역을 시작합니다...\n",
      "   > 번역 완료.\n",
      "\n",
      "완료! 모든 정보가 'huggingface_top_10_papers_2025-W33_translated.txt' 파일에 저장되었습니다.\n"
     ]
    }
   ],
   "source": [
    "print(\"파일에 저장을 시작합니다...\")\n",
    "\n",
    "with open(output_filename, \"w\", encoding=\"utf-8\") as f:\n",
    "    f.write(f\"Hugging Face 주간 인기 논문 Top 10 (2025-W33) - 번역본\\n\")\n",
    "    f.write(f\"출처: {target_url}\\n\\n\")\n",
    "    \n",
    "    for i, article in enumerate(paper_articles):\n",
    "        try:\n",
    "            h3_element = article.xpath(\".//h3\")[0]\n",
    "            link_list = h3_element.xpath(\"./a/@href\")\n",
    "            title_list = h3_element.xpath(\"./a/text()\")\n",
    "\n",
    "            if not link_list or not title_list:\n",
    "                raise ValueError(\"h3 태그 안에서 링크나 제목을 찾을 수 없습니다.\")\n",
    "\n",
    "            relative_link = link_list[0]\n",
    "            title = \"\".join(title_list).strip()\n",
    "            paper_url = f\"{base_url}{relative_link}\"\n",
    "            \n",
    "            print(f\"\\n({i+1}/{len(paper_articles)}) '{title}' 처리 중...\")\n",
    "            print(f\"   > 상세 페이지로 이동: {paper_url}\")\n",
    "\n",
    "            f.write(f\"--- {i+1}. {title} ---\\n\")\n",
    "            f.write(f\"Link: {paper_url}\\n\\n\")\n",
    "\n",
    "            paper_response = requests.get(paper_url, timeout=10)\n",
    "            paper_response.raise_for_status()\n",
    "            paper_tree = html.fromstring(paper_response.content)\n",
    "\n",
    "            abstract_elements = paper_tree.xpath('/html/body/div/main/div/section[1]/div/div[2]/div/p')\n",
    "            \n",
    "            if abstract_elements:\n",
    "                abstract = abstract_elements[0].text_content().strip()\n",
    "                print(\"   > 초록을 찾았습니다. 번역을 시작합니다...\")\n",
    "                \n",
    "                # 원문 초록 저장\n",
    "                f.write(\"## Abstract (Original)\\n\")\n",
    "                f.write(abstract + \"\\n\\n\")\n",
    "                \n",
    "                # 번역 실행\n",
    "                translated_abstract = translate_text_with_openai(abstract)\n",
    "                print(\"   > 번역 완료.\")\n",
    "                \n",
    "                # 번역된 초록 저장\n",
    "                f.write(\"## 초록 (Korean)\\n\")\n",
    "                f.write(translated_abstract + \"\\n\\n\")\n",
    "            else:\n",
    "                print(\"   > 초록을 찾을 수 없습니다.\")\n",
    "                f.write(\"초록을 찾을 수 없습니다.\\n\\n\")\n",
    "\n",
    "        except Exception as e:\n",
    "            error_msg = f\"항목 처리 중 오류 발생: {e}\"\n",
    "            print(f\"   > 오류: {error_msg}\")\n",
    "            f.write(f\"--- {i+1}. 항목 처리 실패 ---\\n{error_msg}\\n\\n\")\n",
    "\n",
    "print(f\"\\n완료! 모든 정보가 '{output_filename}' 파일에 저장되었습니다.\")"
   ]
  },
  {
   "cell_type": "code",
   "execution_count": null,
   "id": "a296c09b",
   "metadata": {},
   "outputs": [],
   "source": []
  }
 ],
 "metadata": {
  "kernelspec": {
   "display_name": "langgraph",
   "language": "python",
   "name": "python3"
  },
  "language_info": {
   "codemirror_mode": {
    "name": "ipython",
    "version": 3
   },
   "file_extension": ".py",
   "mimetype": "text/x-python",
   "name": "python",
   "nbconvert_exporter": "python",
   "pygments_lexer": "ipython3",
   "version": "3.12.2"
  }
 },
 "nbformat": 4,
 "nbformat_minor": 5
}
